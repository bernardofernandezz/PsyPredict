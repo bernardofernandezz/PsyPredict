{
 "cells": [
  {
   "cell_type": "code",
   "execution_count": 4,
   "id": "ebdcae3e",
   "metadata": {},
   "outputs": [
    {
     "name": "stdout",
     "output_type": "stream",
     "text": [
      "Fitting 5 folds for each of 108 candidates, totalling 540 fits\n",
      "Best parameters found: {'max_depth': 5, 'min_samples_leaf': 4, 'min_samples_split': 10, 'n_estimators': 100}\n",
      "Best ROC-AUC score (CV): 0.8193298109672427\n",
      "Test set classification report:\n",
      "               precision    recall  f1-score   support\n",
      "\n",
      "           0       0.77      0.74      0.75       129\n",
      "           1       0.73      0.76      0.75       123\n",
      "\n",
      "    accuracy                           0.75       252\n",
      "   macro avg       0.75      0.75      0.75       252\n",
      "weighted avg       0.75      0.75      0.75       252\n",
      "\n",
      "Test set ROC-AUC: 0.791580008823344\n",
      "Best model saved as ../models/mental_health_rf_best.pkl\n"
     ]
    },
    {
     "name": "stderr",
     "output_type": "stream",
     "text": [
      "c:\\Users\\aprendiz.ecommerce\\Documents\\Programacao\\churn-prediction\\venv\\Lib\\site-packages\\sklearn\\base.py:1363: DataConversionWarning: A column-vector y was passed when a 1d array was expected. Please change the shape of y to (n_samples,), for example using ravel().\n",
      "  return fit_method(estimator, *args, **kwargs)\n"
     ]
    }
   ],
   "source": [
    "from sklearn.model_selection import GridSearchCV\n",
    "from sklearn.ensemble import RandomForestClassifier\n",
    "from sklearn.metrics import classification_report, roc_auc_score\n",
    "import pandas as pd\n",
    "import joblib\n",
    "\n",
    "# Load the data\n",
    "X_train = pd.read_csv('../archive/X_train.csv')\n",
    "y_train = pd.read_csv('../archive/y_train.csv')\n",
    "X_test = pd.read_csv('../archive/X_test.csv')\n",
    "y_test = pd.read_csv('../archive/y_test.csv')\n",
    "\n",
    "# Define the parameter grid for Random Forest\n",
    "param_grid = {\n",
    "    'n_estimators': [100, 200, 300],      # Number of trees in the forest\n",
    "    'max_depth': [None, 5, 10, 20],       # Maximum depth of each tree\n",
    "    'min_samples_split': [2, 5, 10],      # Minimum samples required to split a node\n",
    "    'min_samples_leaf': [1, 2, 4]         # Minimum samples required at a leaf node\n",
    "}\n",
    "\n",
    "# Set up GridSearchCV\n",
    "grid_search = GridSearchCV(\n",
    "    estimator=RandomForestClassifier(random_state=42),\n",
    "    param_grid=param_grid,\n",
    "    cv=5,                                 # 5-fold cross-validation\n",
    "    scoring='roc_auc',                    # Use ROC-AUC as the metric\n",
    "    n_jobs=-1,                            # Use all available CPU cores\n",
    "    verbose=2                             # Print progress\n",
    ")\n",
    "\n",
    "# Fit to training data\n",
    "grid_search.fit(X_train, y_train)\n",
    "\n",
    "print(\"Best parameters found:\", grid_search.best_params_)\n",
    "print(\"Best ROC-AUC score (CV):\", grid_search.best_score_)\n",
    "\n",
    "# Evaluate on test set\n",
    "best_rf = grid_search.best_estimator_\n",
    "y_pred_best = best_rf.predict(X_test)\n",
    "print(\"Test set classification report:\\n\", classification_report(y_test, y_pred_best))\n",
    "print(\"Test set ROC-AUC:\", roc_auc_score(y_test, best_rf.predict_proba(X_test)[:,1]))\n",
    "\n",
    "# Save the best model\n",
    "joblib.dump(best_rf, \"../models/mental_health_rf_best.pkl\")\n",
    "print(\"Best model saved as ../models/mental_health_rf_best.pkl\")"
   ]
  }
 ],
 "metadata": {
  "kernelspec": {
   "display_name": "venv",
   "language": "python",
   "name": "python3"
  },
  "language_info": {
   "codemirror_mode": {
    "name": "ipython",
    "version": 3
   },
   "file_extension": ".py",
   "mimetype": "text/x-python",
   "name": "python",
   "nbconvert_exporter": "python",
   "pygments_lexer": "ipython3",
   "version": "3.12.2"
  }
 },
 "nbformat": 4,
 "nbformat_minor": 5
}
