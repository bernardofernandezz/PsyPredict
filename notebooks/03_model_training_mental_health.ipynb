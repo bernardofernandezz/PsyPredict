{
 "cells": [
  {
   "cell_type": "markdown",
   "id": "8d7f1656",
   "metadata": {},
   "source": [
    "## Model Training and Evaluation\n",
    "\n",
    "Train Random Forest and Logistic Regression models, evaluate their performance, and save the best model."
   ]
  },
  {
   "cell_type": "code",
   "execution_count": 2,
   "id": "fc2627a9",
   "metadata": {},
   "outputs": [
    {
     "name": "stdout",
     "output_type": "stream",
     "text": [
      "Random Forest:\n",
      "               precision    recall  f1-score   support\n",
      "\n",
      "           0       0.75      0.74      0.74       129\n",
      "           1       0.73      0.74      0.73       123\n",
      "\n",
      "    accuracy                           0.74       252\n",
      "   macro avg       0.74      0.74      0.74       252\n",
      "weighted avg       0.74      0.74      0.74       252\n",
      "\n",
      "ROC-AUC: 0.7941955000945359\n",
      "Logistic Regression:\n",
      "               precision    recall  f1-score   support\n",
      "\n",
      "           0       0.59      0.53      0.56       129\n",
      "           1       0.56      0.62      0.59       123\n",
      "\n",
      "    accuracy                           0.58       252\n",
      "   macro avg       0.58      0.58      0.58       252\n",
      "weighted avg       0.58      0.58      0.57       252\n",
      "\n",
      "ROC-AUC: 0.6238734480368059\n",
      "Random Forest model saved as ../models/mental_health_rf.pkl\n"
     ]
    },
    {
     "name": "stderr",
     "output_type": "stream",
     "text": [
      "c:\\Users\\aprendiz.ecommerce\\Documents\\Programacao\\churn-prediction\\venv\\Lib\\site-packages\\sklearn\\linear_model\\_logistic.py:470: ConvergenceWarning: lbfgs failed to converge after 17 iteration(s) (status=2):\n",
      "ABNORMAL: \n",
      "\n",
      "You might also want to scale the data as shown in:\n",
      "    https://scikit-learn.org/stable/modules/preprocessing.html\n",
      "Please also refer to the documentation for alternative solver options:\n",
      "    https://scikit-learn.org/stable/modules/linear_model.html#logistic-regression\n",
      "  n_iter_i = _check_optimize_result(\n"
     ]
    }
   ],
   "source": [
    "import pandas as pd\n",
    "from sklearn.ensemble import RandomForestClassifier\n",
    "from sklearn.linear_model import LogisticRegression\n",
    "from sklearn.metrics import classification_report, roc_auc_score\n",
    "import joblib\n",
    "import numpy as np\n",
    "\n",
    "# Load the preprocessed data\n",
    "X_train = pd.read_csv('../archive/X_train.csv')\n",
    "X_test = pd.read_csv('../archive/X_test.csv')\n",
    "y_train = pd.read_csv('../archive/y_train.csv').squeeze()\n",
    "y_test = pd.read_csv('../archive/y_test.csv').squeeze()\n",
    "\n",
    "# Train Random Forest\n",
    "rf = RandomForestClassifier(random_state=42)\n",
    "rf.fit(X_train, y_train)\n",
    "y_pred_rf = rf.predict(X_test)\n",
    "rf_probs = np.array(rf.predict_proba(X_test))\n",
    "print(\"Random Forest:\\n\", classification_report(y_test, y_pred_rf))\n",
    "print(\"ROC-AUC:\", roc_auc_score(y_test, rf_probs[:, 1]))\n",
    "\n",
    "# Train Logistic Regression\n",
    "lr = LogisticRegression(max_iter=1000)\n",
    "lr.fit(X_train, y_train)\n",
    "y_pred_lr = lr.predict(X_test)\n",
    "lr_probs = np.array(lr.predict_proba(X_test))\n",
    "print(\"Logistic Regression:\\n\", classification_report(y_test, y_pred_lr))\n",
    "print(\"ROC-AUC:\", roc_auc_score(y_test, lr_probs[:, 1]))\n",
    "\n",
    "# Save the best model (choose based on ROC-AUC)\n",
    "if roc_auc_score(y_test, rf_probs[:, 1]) >= roc_auc_score(y_test, lr_probs[:, 1]):\n",
    "    joblib.dump(rf, \"../models/mental_health_rf.pkl\")\n",
    "    print(\"Random Forest model saved as ../models/mental_health_rf.pkl\")\n",
    "else:\n",
    "    joblib.dump(lr, \"../models/mental_health_lr.pkl\")\n",
    "    print(\"Logistic Regression model saved as ../models/mental_health_lr.pkl\") "
   ]
  }
 ],
 "metadata": {
  "kernelspec": {
   "display_name": "venv",
   "language": "python",
   "name": "python3"
  },
  "language_info": {
   "codemirror_mode": {
    "name": "ipython",
    "version": 3
   },
   "file_extension": ".py",
   "mimetype": "text/x-python",
   "name": "python",
   "nbconvert_exporter": "python",
   "pygments_lexer": "ipython3",
   "version": "3.12.2"
  }
 },
 "nbformat": 4,
 "nbformat_minor": 5
}
