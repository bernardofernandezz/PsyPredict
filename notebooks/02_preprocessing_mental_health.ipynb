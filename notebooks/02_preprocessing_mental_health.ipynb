{
 "cells": [
  {
   "cell_type": "code",
   "execution_count": 6,
   "id": "91909e43",
   "metadata": {},
   "outputs": [
    {
     "name": "stdout",
     "output_type": "stream",
     "text": [
      "(1007, 23) (252, 23)\n",
      "treatment\n",
      "1    514\n",
      "0    493\n",
      "Name: count, dtype: int64 treatment\n",
      "0    129\n",
      "1    123\n",
      "Name: count, dtype: int64\n"
     ]
    }
   ],
   "source": [
    "import pandas as pd\n",
    "from sklearn.model_selection import train_test_split\n",
    "from sklearn.preprocessing import LabelEncoder\n",
    "\n",
    "# Load data\n",
    "df = pd.read_csv('../archive/survey.csv')\n",
    "\n",
    "# Drop columns not useful for prediction\n",
    "df = df.drop(['Timestamp', 'comments', 'state'], axis=1)\n",
    "\n",
    "# Standardize gender values\n",
    "df['Gender'] = df['Gender'].str.lower().replace({\n",
    "    'male': 'male', 'm': 'male', 'male-ish': 'male', 'maile': 'male',\n",
    "    'female': 'female', 'f': 'female', 'cis female': 'female', 'trans-female': 'female'\n",
    "})\n",
    "df['Gender'] = df['Gender'].where(df['Gender'].isin(['male', 'female']), 'other')\n",
    "\n",
    "# Fill missing values\n",
    "for col in df.columns:\n",
    "    if df[col].dtype == 'O':\n",
    "        fill_value = str(df[col].mode()[0])\n",
    "        df[col] = df[col].fillna(fill_value)\n",
    "    else:\n",
    "        fill_value = float(df[col].median())\n",
    "        df[col] = df[col].fillna(fill_value)\n",
    "\n",
    "# Encode categorical variables\n",
    "label_encoders = {}\n",
    "for col in df.select_dtypes(include='object').columns:\n",
    "    le = LabelEncoder()\n",
    "    df[col] = le.fit_transform(df[col])\n",
    "    label_encoders[col] = le\n",
    "\n",
    "# Define target and features\n",
    "target = 'treatment'  # or 'diagnosis' if available\n",
    "X = df.drop(target, axis=1)\n",
    "y = df[target]\n",
    "\n",
    "# Train/test split\n",
    "X_train, X_test, y_train, y_test = train_test_split(X, y, test_size=0.2, random_state=42)\n",
    "\n",
    "# Ensure correct types for downstream use\n",
    "X_train = pd.DataFrame(X_train)\n",
    "X_test = pd.DataFrame(X_test)\n",
    "y_train = pd.Series(y_train)\n",
    "y_test = pd.Series(y_test)\n",
    "\n",
    "# Save splits\n",
    "X_train.to_csv('../archive/X_train.csv', index=False)\n",
    "X_test.to_csv('../archive/X_test.csv', index=False)\n",
    "y_train.to_csv('../archive/y_train.csv', index=False)\n",
    "y_test.to_csv('../archive/y_test.csv', index=False)\n",
    "\n",
    "print(X_train.shape, X_test.shape)\n",
    "print(y_train.value_counts(), y_test.value_counts())"
   ]
  }
 ],
 "metadata": {
  "kernelspec": {
   "display_name": "venv",
   "language": "python",
   "name": "python3"
  },
  "language_info": {
   "codemirror_mode": {
    "name": "ipython",
    "version": 3
   },
   "file_extension": ".py",
   "mimetype": "text/x-python",
   "name": "python",
   "nbconvert_exporter": "python",
   "pygments_lexer": "ipython3",
   "version": "3.12.2"
  }
 },
 "nbformat": 4,
 "nbformat_minor": 5
}
